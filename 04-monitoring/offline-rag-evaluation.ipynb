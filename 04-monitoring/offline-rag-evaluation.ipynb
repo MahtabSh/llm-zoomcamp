{
 "cells": [
  {
   "cell_type": "markdown",
   "id": "6aba7e38",
   "metadata": {},
   "source": [
    "# Load documents with IDs\n"
   ]
  },
  {
   "cell_type": "code",
   "execution_count": 2,
   "id": "902920d6",
   "metadata": {},
   "outputs": [],
   "source": [
    "import requests\n",
    "\n",
    "base_url = 'https://github.com/DataTalksClub/llm-zoomcamp/blob/main'\n",
    "relative_url = '03-vector-search/eval/documents-with-ids.json'\n",
    "\n",
    "docs_url = f'{base_url}/{relative_url}?raw=1'\n",
    "docs_response = requests.get(docs_url)\n",
    "documents = docs_response.json()\n",
    "\n"
   ]
  },
  {
   "cell_type": "code",
   "execution_count": 3,
   "id": "18f1793f",
   "metadata": {},
   "outputs": [
    {
     "data": {
      "text/plain": [
       "{'text': 'GitHub - DataTalksClub data-engineering-zoomcamp#prerequisites',\n",
       " 'section': 'General course-related questions',\n",
       " 'question': 'Course - What are the prerequisites for this course?',\n",
       " 'course': 'data-engineering-zoomcamp',\n",
       " 'id': '1f6520ca'}"
      ]
     },
     "execution_count": 3,
     "metadata": {},
     "output_type": "execute_result"
    }
   ],
   "source": [
    "documents[1]\n"
   ]
  },
  {
   "cell_type": "markdown",
   "id": "b1b94421",
   "metadata": {},
   "source": [
    "# Load ground truth"
   ]
  },
  {
   "cell_type": "code",
   "execution_count": 4,
   "id": "28ab7521",
   "metadata": {},
   "outputs": [],
   "source": [
    "import pandas as pd"
   ]
  },
  {
   "cell_type": "code",
   "execution_count": 5,
   "id": "ee56863d",
   "metadata": {},
   "outputs": [],
   "source": [
    "base_url = 'https://github.com/DataTalksClub/llm-zoomcamp/blob/main'\n",
    "relative_url = '03-vector-search/eval/ground-truth-data.csv'\n",
    "ground_truth_url = f'{base_url}/{relative_url}?raw=1'"
   ]
  },
  {
   "cell_type": "code",
   "execution_count": 6,
   "id": "84227774",
   "metadata": {},
   "outputs": [],
   "source": [
    "df_ground_truth = pd.read_csv(ground_truth_url)\n"
   ]
  },
  {
   "cell_type": "code",
   "execution_count": 7,
   "id": "db675099",
   "metadata": {},
   "outputs": [],
   "source": [
    "df_ground_truth = df_ground_truth[df_ground_truth.course == 'machine-learning-zoomcamp']\n",
    "ground_truth = df_ground_truth.to_dict(orient='records')"
   ]
  },
  {
   "cell_type": "code",
   "execution_count": 8,
   "id": "597f6735",
   "metadata": {},
   "outputs": [
    {
     "data": {
      "text/plain": [
       "{'question': 'Can you provide a link to sign up?',\n",
       " 'course': 'machine-learning-zoomcamp',\n",
       " 'document': '0227b872'}"
      ]
     },
     "execution_count": 8,
     "metadata": {},
     "output_type": "execute_result"
    }
   ],
   "source": [
    "ground_truth[1]\n"
   ]
  },
  {
   "cell_type": "code",
   "execution_count": 9,
   "id": "32de986d",
   "metadata": {},
   "outputs": [],
   "source": [
    "doc_idx = {d['id']: d for d in documents}"
   ]
  },
  {
   "cell_type": "markdown",
   "id": "544421de",
   "metadata": {},
   "source": [
    "# Index data"
   ]
  },
  {
   "cell_type": "code",
   "execution_count": 10,
   "id": "70a00014",
   "metadata": {},
   "outputs": [
    {
     "name": "stderr",
     "output_type": "stream",
     "text": [
      "/home/mahtab/.local/lib/python3.10/site-packages/sentence_transformers/cross_encoder/CrossEncoder.py:11: TqdmExperimentalWarning: Using `tqdm.autonotebook.tqdm` in notebook mode. Use `tqdm.tqdm` instead to force console mode (e.g. in jupyter console)\n",
      "  from tqdm.autonotebook import tqdm, trange\n",
      "/usr/lib/python3/dist-packages/scipy/__init__.py:146: UserWarning: A NumPy version >=1.17.3 and <1.25.0 is required for this version of SciPy (detected version 1.26.4\n",
      "  warnings.warn(f\"A NumPy version >={np_minversion} and <{np_maxversion}\"\n"
     ]
    }
   ],
   "source": [
    "from sentence_transformers import SentenceTransformer"
   ]
  },
  {
   "cell_type": "code",
   "execution_count": 11,
   "id": "77ffe157",
   "metadata": {},
   "outputs": [],
   "source": [
    "from transformers import AutoModel, AutoTokenizer\n",
    "from sentence_transformers import SentenceTransformer, models\n",
    "\n",
    "# Create a SentenceTransformer model with mean pooling\n",
    "word_embedding_model = models.Transformer(model_name_or_path=\"/home/mahtab/transformers/all-MiniLM-L6-v2\")\n",
    "pooling_model = models.Pooling(word_embedding_model.get_word_embedding_dimension())\n",
    "sentence_model = SentenceTransformer(modules=[word_embedding_model, pooling_model])"
   ]
  },
  {
   "cell_type": "code",
   "execution_count": 13,
   "id": "11a3352c",
   "metadata": {},
   "outputs": [
    {
     "name": "stderr",
     "output_type": "stream",
     "text": [
      "/home/mahtab/.local/lib/python3.10/site-packages/elasticsearch/_sync/client/__init__.py:399: SecurityWarning: Connecting to 'https://localhost:9200' using TLS with verify_certs=False is insecure\n",
      "  _transport = transport_class(\n",
      "/tmp/ipykernel_11717/2431856763.py:6: DeprecationWarning: The 'http_auth' parameter is deprecated. Use 'basic_auth' or 'bearer_auth' parameters instead\n",
      "  es_client = Elasticsearch('https://localhost:9200',\n"
     ]
    },
    {
     "data": {
      "text/plain": [
       "ObjectApiResponse({'acknowledged': True, 'shards_acknowledged': True, 'index': 'course-questions'})"
      ]
     },
     "execution_count": 13,
     "metadata": {},
     "output_type": "execute_result"
    }
   ],
   "source": [
    "from elasticsearch import Elasticsearch\n",
    "import urllib3\n",
    "\n",
    "urllib3.disable_warnings(urllib3.exceptions.InsecureRequestWarning)\n",
    "\n",
    "es_client = Elasticsearch('https://localhost:9200',\n",
    "                           http_auth=('elastic', 'xMR77YWEPbFGsMJvin_7'),\n",
    "                           verify_certs=False) \n",
    "\n",
    "index_settings = {\n",
    "    \"settings\": {\n",
    "        \"number_of_shards\": 1,\n",
    "        \"number_of_replicas\": 0\n",
    "    },\n",
    "    \"mappings\": {\n",
    "        \"properties\": {\n",
    "            \"text\": {\"type\": \"text\"},\n",
    "            \"section\": {\"type\": \"text\"},\n",
    "            \"question\": {\"type\": \"text\"},\n",
    "            \"course\": {\"type\": \"keyword\"},\n",
    "            \"id\": {\"type\": \"keyword\"},\n",
    "            \"question_text_vector\": {\n",
    "                \"type\": \"dense_vector\",\n",
    "                \"dims\": 384,\n",
    "                \"index\": True,\n",
    "                \"similarity\": \"cosine\"\n",
    "            },\n",
    "        }\n",
    "    }\n",
    "}\n",
    "\n",
    "index_name = \"course-questions\"\n",
    "\n",
    "es_client.indices.delete(index=index_name, ignore_unavailable=True)\n",
    "es_client.indices.create(index=index_name, body=index_settings)"
   ]
  },
  {
   "cell_type": "code",
   "execution_count": 14,
   "id": "47340fe5",
   "metadata": {},
   "outputs": [],
   "source": [
    "for doc in documents:\n",
    "    question = doc['question']\n",
    "    text = doc['text']\n",
    "    doc['question_text_vector'] = sentence_model.encode(question + ' ' + text)\n",
    "    es_client.index(index=index_name, document=doc)"
   ]
  },
  {
   "cell_type": "markdown",
   "id": "f97267c6",
   "metadata": {},
   "source": [
    "# Retrieval"
   ]
  },
  {
   "cell_type": "code",
   "execution_count": 15,
   "id": "8eda9a2a",
   "metadata": {},
   "outputs": [],
   "source": [
    "def elastic_search_knn(field, vector, course):\n",
    "    knn = {\n",
    "        \"field\": field,\n",
    "        \"query_vector\": vector,\n",
    "        \"k\": 5,\n",
    "        \"num_candidates\": 10000,\n",
    "        \"filter\": {\n",
    "            \"term\": {\n",
    "                \"course\": course\n",
    "            }\n",
    "        }\n",
    "    }\n",
    "\n",
    "    search_query = {\n",
    "        \"knn\": knn,\n",
    "        \"_source\": [\"text\", \"section\", \"question\", \"course\", \"id\"]\n",
    "    }\n",
    "\n",
    "    es_results = es_client.search(\n",
    "        index=index_name,\n",
    "        body=search_query\n",
    "    )\n",
    "    \n",
    "    result_docs = []\n",
    "    \n",
    "    for hit in es_results['hits']['hits']:\n",
    "        result_docs.append(hit['_source'])\n",
    "\n",
    "    return result_docs"
   ]
  },
  {
   "cell_type": "code",
   "execution_count": 16,
   "id": "faf1bc14",
   "metadata": {},
   "outputs": [],
   "source": [
    "def question_text_vector_knn(q):\n",
    "    question = q['question']\n",
    "    course = q['course']\n",
    "\n",
    "    v_q = sentence_model.encode(question)\n",
    "\n",
    "    return elastic_search_knn('question_text_vector', v_q, course)"
   ]
  },
  {
   "cell_type": "code",
   "execution_count": 17,
   "id": "0b037e6d",
   "metadata": {},
   "outputs": [
    {
     "data": {
      "text/plain": [
       "[{'text': 'Everything is recorded, so you won’t miss anything. You will be able to ask your questions for office hours in advance and we will cover them during the live stream. Also, you can always ask questions in Slack.',\n",
       "  'section': 'General course-related questions',\n",
       "  'question': 'What if I miss a session?',\n",
       "  'course': 'machine-learning-zoomcamp',\n",
       "  'id': '5170565b'},\n",
       " {'text': 'The course videos are pre-recorded, you can start watching the course right now.\\nWe will also occasionally have office hours - live sessions where we will answer your questions. The office hours sessions are recorded too.\\nYou can see the office hours as well as the pre-recorded course videos in the course playlist on YouTube.',\n",
       "  'section': 'General course-related questions',\n",
       "  'question': 'Is it going to be live? When?',\n",
       "  'course': 'machine-learning-zoomcamp',\n",
       "  'id': '39fda9f0'},\n",
       " {'text': 'We won’t re-record the course videos. The focus of the course and the skills we want to teach remained the same, and the videos are still up-to-date.\\nIf you haven’t taken part in the previous iteration, you can start watching the videos. It’ll be useful for you and you will learn new things. However, we recommend using Python 3.10 now instead of Python 3.8.',\n",
       "  'section': 'General course-related questions',\n",
       "  'question': 'The course videos are from the previous iteration. Will you release new ones or we’ll use the videos from 2021?',\n",
       "  'course': 'machine-learning-zoomcamp',\n",
       "  'id': 'e7ba6b8a'},\n",
       " {'text': '(Hrithik Kumar Advani)',\n",
       "  'section': '2. Machine Learning for Regression',\n",
       "  'question': 'Useful Resource for Missing Data Treatment\\nhttps://www.kaggle.com/code/parulpandey/a-guide-to-handling-missing-values-in-python/notebook',\n",
       "  'course': 'machine-learning-zoomcamp',\n",
       "  'id': '81b8e8d0'},\n",
       " {'text': 'Filling in missing values using an entire dataset before splitting for training/testing/validation causes',\n",
       "  'section': '6. Decision Trees and Ensemble Learning',\n",
       "  'question': 'Data Leakage',\n",
       "  'course': 'machine-learning-zoomcamp',\n",
       "  'id': '3e0acc25'}]"
      ]
     },
     "execution_count": 17,
     "metadata": {},
     "output_type": "execute_result"
    }
   ],
   "source": [
    "question_text_vector_knn(dict(\n",
    "    question='Are sessions recorded if I miss one?',\n",
    "    course='machine-learning-zoomcamp'\n",
    "))"
   ]
  },
  {
   "cell_type": "markdown",
   "id": "f5c9baf3",
   "metadata": {},
   "source": [
    "# The RAG flow"
   ]
  },
  {
   "cell_type": "code",
   "execution_count": 18,
   "id": "fa210f4c",
   "metadata": {},
   "outputs": [],
   "source": [
    "def build_prompt(query, search_results):\n",
    "    prompt_template = \"\"\"\n",
    "    You're a course teaching assistant. Answer the QUESTION based on the CONTEXT from the FAQ database.\n",
    "    Use only the facts from the CONTEXT when answering the QUESTION.\n",
    "\n",
    "    QUESTION: {question}\n",
    "\n",
    "    CONTEXT: \n",
    "    {context}\n",
    "\"\"\".strip()\n",
    "\n",
    "    context = \"\"\n",
    "    \n",
    "    for doc in search_results:\n",
    "        context = context + f\"section: {doc['section']}\\nquestion: {doc['question']}\\nanswer: {doc['text']}\\n\\n\"\n",
    "    \n",
    "    prompt = prompt_template.format(question=query, context=context).strip()\n",
    "    return prompt "
   ]
  },
  {
   "cell_type": "code",
   "execution_count": 19,
   "id": "f9008e74",
   "metadata": {},
   "outputs": [],
   "source": [
    "from openai import OpenAI\n",
    "client = OpenAI(\n",
    "    base_url='http://localhost:11434/v1/',\n",
    "    api_key='ollama'\n",
    ")"
   ]
  },
  {
   "cell_type": "code",
   "execution_count": 20,
   "id": "ec750acd",
   "metadata": {},
   "outputs": [],
   "source": [
    "def llm(prompt):\n",
    "    response = client.chat.completions.create(\n",
    "        model='phi3',\n",
    "        messages=[{\"role\": \"user\", \"content\": prompt}]\n",
    "    )\n",
    "    \n",
    "    return response.choices[0].message.content"
   ]
  },
  {
   "cell_type": "code",
   "execution_count": 21,
   "id": "382a6ed1",
   "metadata": {},
   "outputs": [],
   "source": [
    "def rag(query: dict) -> str:\n",
    "    search_results = question_text_vector_knn(query)\n",
    "    prompt = build_prompt(query['question'], search_results)\n",
    "    answer = llm(prompt)\n",
    "    return answer"
   ]
  },
  {
   "cell_type": "code",
   "execution_count": 37,
   "id": "94011a65",
   "metadata": {},
   "outputs": [
    {
     "data": {
      "text/plain": [
       "'According to the FAQ database, if you miss a session of \"BuildYourOwnNeuralNetworkeconomist.in,\" all sessions are recorded which means everything is on tape so that no crucial information will be missed by learners like yourself who might not attend every live stream for various reasons such as schedule conflicts or simply forgetting to log in at the right time.\\n\\nThis ensures inclusivity and allows students unfettered accessibility, hence providing equal learning opportunities regardless of scheduling issues or other impromptu unavailabilities on part of this course\\'s instructors which includes offering recordings for office hour sessions as well as inviting learners to pose their queries ahead in Slack. Remember the recorded lectures and pre-recorded live session, you can check them both easily available under YouTube Playlist. \\n\\nAlthough previous iterations videos are used but no longer needed due to lack of essential updates in course content overtime which keeps our syllabus more or less similar while we continue evolving the teaching techniques accordingly and updating resources for better learning experience like filling up missing values using Python version newer than was recommended before. So, rest assured your attendance will never interfere with completing this exciting journey of mastering machine Learning!'"
      ]
     },
     "execution_count": 37,
     "metadata": {},
     "output_type": "execute_result"
    }
   ],
   "source": [
    "rag(ground_truth[10])\n"
   ]
  },
  {
   "cell_type": "markdown",
   "id": "daa1d6c0",
   "metadata": {},
   "source": [
    "# Cosine similarity metric\n"
   ]
  },
  {
   "cell_type": "code",
   "execution_count": 22,
   "id": "cd0fc0c2",
   "metadata": {},
   "outputs": [
    {
     "data": {
      "text/plain": [
       "8.669298"
      ]
     },
     "execution_count": 22,
     "metadata": {},
     "output_type": "execute_result"
    }
   ],
   "source": [
    "answer_orig = 'Yes, sessions are recorded if you miss one. Everything is recorded, allowing you to catch up on any missed content. Additionally, you can ask questions in advance for office hours and have them addressed during the live stream. You can also ask questions in Slack.'\n",
    "answer_llm = 'Everything is recorded, so you won’t miss anything. You will be able to ask your questions for office hours in advance and we will cover them during the live stream. Also, you can always ask questions in Slack.'\n",
    "\n",
    "v_llm = sentence_model.encode(answer_llm)\n",
    "v_orig = sentence_model.encode(answer_orig)\n",
    "\n",
    "v_llm.dot(v_orig)"
   ]
  },
  {
   "cell_type": "code",
   "execution_count": 23,
   "id": "8c888de8",
   "metadata": {},
   "outputs": [],
   "source": [
    "answers = {}\n",
    "smaller_ground_truth = ground_truth[:5]"
   ]
  },
  {
   "cell_type": "code",
   "execution_count": 24,
   "id": "0a91a7e0",
   "metadata": {},
   "outputs": [],
   "source": [
    "for i, rec in enumerate(smaller_ground_truth):\n",
    "    if i in answers:\n",
    "        continue\n",
    "\n",
    "    answer_llm = rag(rec)\n",
    "    doc_id = rec['document']\n",
    "    original_doc = doc_idx[doc_id]\n",
    "    answer_orig = original_doc['text']\n",
    "\n",
    "    answers[i] = {\n",
    "        'answer_llm': answer_llm,\n",
    "        'answer_orig': answer_orig,\n",
    "        'document': doc_id,\n",
    "        'question': rec['question'],\n",
    "        'course': rec['course'],\n",
    "    }"
   ]
  },
  {
   "cell_type": "code",
   "execution_count": null,
   "id": "0c484ff8",
   "metadata": {},
   "outputs": [],
   "source": [
    "answers\n"
   ]
  },
  {
   "cell_type": "code",
   "execution_count": 27,
   "id": "38b53720",
   "metadata": {},
   "outputs": [],
   "source": [
    "results_phi3 = [None]*len(smaller_ground_truth)\n",
    "\n",
    "for i, val in answers.items():\n",
    "    results_phi3[i]=val.copy()\n",
    "    results_phi3[i].update(smaller_ground_truth[i])"
   ]
  },
  {
   "cell_type": "code",
   "execution_count": 28,
   "id": "f75ad9c7",
   "metadata": {},
   "outputs": [],
   "source": [
    "import pandas as pd"
   ]
  },
  {
   "cell_type": "code",
   "execution_count": 29,
   "id": "01c99e43",
   "metadata": {},
   "outputs": [],
   "source": [
    "df_phi3 = pd.DataFrame(results_phi3)"
   ]
  },
  {
   "cell_type": "code",
   "execution_count": 31,
   "id": "b67c581e",
   "metadata": {},
   "outputs": [],
   "source": [
    "df_phi3.to_csv('results-phi3.csv', index=False)\n"
   ]
  },
  {
   "cell_type": "code",
   "execution_count": 32,
   "id": "c8a99d35",
   "metadata": {},
   "outputs": [
    {
     "data": {
      "text/html": [
       "<div>\n",
       "<style scoped>\n",
       "    .dataframe tbody tr th:only-of-type {\n",
       "        vertical-align: middle;\n",
       "    }\n",
       "\n",
       "    .dataframe tbody tr th {\n",
       "        vertical-align: top;\n",
       "    }\n",
       "\n",
       "    .dataframe thead th {\n",
       "        text-align: right;\n",
       "    }\n",
       "</style>\n",
       "<table border=\"1\" class=\"dataframe\">\n",
       "  <thead>\n",
       "    <tr style=\"text-align: right;\">\n",
       "      <th></th>\n",
       "      <th>answer_llm</th>\n",
       "      <th>answer_orig</th>\n",
       "      <th>document</th>\n",
       "      <th>question</th>\n",
       "      <th>course</th>\n",
       "    </tr>\n",
       "  </thead>\n",
       "  <tbody>\n",
       "    <tr>\n",
       "      <th>0</th>\n",
       "      <td>To sign up for the course, visit the provided ...</td>\n",
       "      <td>Machine Learning Zoomcamp FAQ\\nThe purpose of ...</td>\n",
       "      <td>0227b872</td>\n",
       "      <td>Where can I sign up for the course?</td>\n",
       "      <td>machine-learning-zoomcamp</td>\n",
       "    </tr>\n",
       "    <tr>\n",
       "      <th>1</th>\n",
       "      <td>I'm sorry, but it seems there is no specific i...</td>\n",
       "      <td>Machine Learning Zoomcamp FAQ\\nThe purpose of ...</td>\n",
       "      <td>0227b872</td>\n",
       "      <td>Can you provide a link to sign up?</td>\n",
       "      <td>machine-learning-zoomcamp</td>\n",
       "    </tr>\n",
       "    <tr>\n",
       "      <th>2</th>\n",
       "      <td>As a course teaching assistant for the Machine...</td>\n",
       "      <td>Machine Learning Zoomcamp FAQ\\nThe purpose of ...</td>\n",
       "      <td>0227b872</td>\n",
       "      <td>Is there an FAQ for this Machine Learning course?</td>\n",
       "      <td>machine-learning-zoomcamp</td>\n",
       "    </tr>\n",
       "    <tr>\n",
       "      <th>3</th>\n",
       "      <td>Based on the provided context, yes, students n...</td>\n",
       "      <td>Machine Learning Zoomcamp FAQ\\nThe purpose of ...</td>\n",
       "      <td>0227b872</td>\n",
       "      <td>Does this course have a GitHub repository for ...</td>\n",
       "      <td>machine-learning-zoomcamp</td>\n",
       "    </tr>\n",
       "    <tr>\n",
       "      <th>4</th>\n",
       "      <td>To structure your questions and answers for th...</td>\n",
       "      <td>Machine Learning Zoomcamp FAQ\\nThe purpose of ...</td>\n",
       "      <td>0227b872</td>\n",
       "      <td>How can I structure my questions and answers f...</td>\n",
       "      <td>machine-learning-zoomcamp</td>\n",
       "    </tr>\n",
       "  </tbody>\n",
       "</table>\n",
       "</div>"
      ],
      "text/plain": [
       "                                          answer_llm  \\\n",
       "0  To sign up for the course, visit the provided ...   \n",
       "1  I'm sorry, but it seems there is no specific i...   \n",
       "2  As a course teaching assistant for the Machine...   \n",
       "3  Based on the provided context, yes, students n...   \n",
       "4  To structure your questions and answers for th...   \n",
       "\n",
       "                                         answer_orig  document  \\\n",
       "0  Machine Learning Zoomcamp FAQ\\nThe purpose of ...  0227b872   \n",
       "1  Machine Learning Zoomcamp FAQ\\nThe purpose of ...  0227b872   \n",
       "2  Machine Learning Zoomcamp FAQ\\nThe purpose of ...  0227b872   \n",
       "3  Machine Learning Zoomcamp FAQ\\nThe purpose of ...  0227b872   \n",
       "4  Machine Learning Zoomcamp FAQ\\nThe purpose of ...  0227b872   \n",
       "\n",
       "                                            question  \\\n",
       "0                Where can I sign up for the course?   \n",
       "1                 Can you provide a link to sign up?   \n",
       "2  Is there an FAQ for this Machine Learning course?   \n",
       "3  Does this course have a GitHub repository for ...   \n",
       "4  How can I structure my questions and answers f...   \n",
       "\n",
       "                      course  \n",
       "0  machine-learning-zoomcamp  \n",
       "1  machine-learning-zoomcamp  \n",
       "2  machine-learning-zoomcamp  \n",
       "3  machine-learning-zoomcamp  \n",
       "4  machine-learning-zoomcamp  "
      ]
     },
     "execution_count": 32,
     "metadata": {},
     "output_type": "execute_result"
    }
   ],
   "source": [
    "df_phi3"
   ]
  },
  {
   "cell_type": "code",
   "execution_count": 33,
   "id": "f9c484ad",
   "metadata": {},
   "outputs": [],
   "source": [
    "results_phi3 = df_phi3.to_dict(orient='records')\n"
   ]
  },
  {
   "cell_type": "code",
   "execution_count": 35,
   "id": "b94d99b5",
   "metadata": {},
   "outputs": [
    {
     "data": {
      "text/plain": [
       "[{'answer_llm': \"To sign up for the course, visit the provided link http://mlzoomcamp.com/#syllabus and there you can see all necessary options to enroll or join if you've already joined! Please note that even if past iterations have started, future cohort courses with a live component will kick off in September 2023. Feel free to reach out via the course page for help regarding accessibility of previous materials and projects from former learners starting as early as October (and they might be helpful).\",\n",
       "  'answer_orig': 'Machine Learning Zoomcamp FAQ\\nThe purpose of this document is to capture frequently asked technical questions.\\nWe did this for our data engineering course and it worked quite well. Check this document for inspiration on how to structure your questions and answers:\\nData Engineering Zoomcamp FAQ\\nIn the course GitHub repository there’s a link. Here it is: https://airtable.com/shryxwLd0COOEaqXo\\nwork',\n",
       "  'document': '0227b872',\n",
       "  'question': 'Where can I sign up for the course?',\n",
       "  'course': 'machine-learning-zoomcamp'},\n",
       " {'answer_llm': \"I'm sorry, but it seems there is no specific information available in the provided context regarding how to sign up for a course or any link that would allow someone to join. Based on typical practices though commonly used links/handshakes are not found directly referencing signing-up procedures within FAQs pertaining precisely to general questions as stated above, and similarly without expressly indicated paths in this content which direct towards enrollment processes for courses related or otherwise specifically named LinkedIn experiences discussed by the Annaliese Bronz & Ani Mkrtumyan comments. \\n\\nTo clarify your understanding on such matters based upon common procedures: Usually sign-up details are provided within a syllabus document, course webpage itself (often labeled as 'Join Now' or similarly), alongside institution’s registration system if applicable – not specifically mentioned in this context but often the method to obtain these resources is directly accessing designated learning platforms like Coursera and Udacity. Additionally for LinkedIn experiences you generally detail your skill acquisitions on a professional profile without listing it as formal roles that necessitate prior employment or compensation, emphasizing its value towards prospective opportunities – again not exactly specified here but rather implied in these Annaliese & Ani’s guidance regarding personal branding. \\n\",\n",
       "  'answer_orig': 'Machine Learning Zoomcamp FAQ\\nThe purpose of this document is to capture frequently asked technical questions.\\nWe did this for our data engineering course and it worked quite well. Check this document for inspiration on how to structure your questions and answers:\\nData Engineering Zoomcamp FAQ\\nIn the course GitHub repository there’s a link. Here it is: https://airtable.com/shryxwLd0COOEaqXo\\nwork',\n",
       "  'document': '0227b872',\n",
       "  'question': 'Can you provide a link to sign up?',\n",
       "  'course': 'machine-learning-zoomcamp'},\n",
       " {'answer_llm': \"As a course teaching assistant for the Machine Learning course, I'm happy to inform you that yes, there is an FAQ section available to address frequently asked technical questions regarding our course! Please refer to Airtable base URL where all these resources are listed: https://airtable.com/shryxwLd0COOEaqXo?p=4DZc7sIdHJ&i=3\\nAlso, for general advice on how to get started and access course materials after joining the Zoomcamp Machine Learning Course 2023: Go directly to our official ML Camp website (http://mlzoomcamp.com/) or you can use this link http://airtable.com/shryxwLd0COOEaqXo?p=4DZc7sIdHJ&i=17 which will direct right into the course materials and furthermore to our comprehensive GitHub repo (https://github.com/DataTalksClub/machine-learning-zoomcamp/) that holds all resources from theory, assignments and projects related to this Machine Learning Zoomcamp! \",\n",
       "  'answer_orig': 'Machine Learning Zoomcamp FAQ\\nThe purpose of this document is to capture frequently asked technical questions.\\nWe did this for our data engineering course and it worked quite well. Check this document for inspiration on how to structure your questions and answers:\\nData Engineering Zoomcamp FAQ\\nIn the course GitHub repository there’s a link. Here it is: https://airtable.com/shryxwLd0COOEaqXo\\nwork',\n",
       "  'document': '0227b872',\n",
       "  'question': 'Is there an FAQ for this Machine Learning course?',\n",
       "  'course': 'machine-learning-zoomcamp'},\n",
       " {'answer_llm': \"Based on the provided context, yes, students need to provide the GitHub link for sign-up purposes but in case of homework grading, it’s required only when submitting corrections via Slack if their repositories are not publicly visible. Additionally, while having a personal Github repository with additional notes is allowed and encouraged by adding links under 'Community Notes', the course GitHub does serve as an initial point for community interactions around the shared knowledge of Machine Learning topics hosted on Saturn Cloud platforms alongside other guides present in FAQ documents tailored towards data engineering courses. \\n\",\n",
       "  'answer_orig': 'Machine Learning Zoomcamp FAQ\\nThe purpose of this document is to capture frequently asked technical questions.\\nWe did this for our data engineering course and it worked quite well. Check this document for inspiration on how to structure your questions and answers:\\nData Engineering Zoomcamp FAQ\\nIn the course GitHub repository there’s a link. Here it is: https://airtable.com/shryxwLd0COOEaqXo\\nwork',\n",
       "  'document': '0227b872',\n",
       "  'question': 'Does this course have a GitHub repository for the sign-up link?',\n",
       "  'course': 'machine-learning-zoomcamp'},\n",
       " {'answer_llm': 'To structure your questions and answers for this ML Zoomcamp Computer Science Specialization course effectively, consider creating a question-and-answer system that is friendly toward various levels of engagement with the material. You could ask about next steps by directing newcomers to first access materials through links provided on official channels or via specific documents associated with their cohort year. For example: \"New students start accessing course resources at [specific link], where you find all necessary modules and videos for a thorough understanding of our curriculum.\"\\n\\nYou could address the submission method by instructing learners to include social media links in designated sections but emphasize they should submit up to seven distinct URLs per homework form submissions, as this will proportionately affect their extra credit scores. For instance: \"Please use the appropriate field on our assessment forms when posting your findings and learning milestones by incorporating no more than 7 unique social media sharing links related to course content each week.\"\\n\\nIn regards to time estimation for successful completion, you might include a detailed breakdown of how much study is required per module or the entirety of participation in activities like projects, while offering data from peer observations. For example: \"Considering Aram\\'s comprehensive timing analysis where 10 hours per week equate roughly to mastery across content and assignments during this course schedule,\" ensure you present time management as a guide for structured learning outcomes within the given course period, mention the doubling of points system for extended projects like midterms or capstrokes: \"Engaging in extensive activities such as Midterm Capstone will see your efforts rewarded with twofold points due to their substantial contribution and complexity.\"\\n\\nLastly, inform about duration transparency so that learners are aware when the course concludes. As an example of structured questioning around this topic: \"This specialization has various activities designed across a ~4-month framework; however, expect additional learning projects which may extend participation beyond standard requirements.\"',\n",
       "  'answer_orig': 'Machine Learning Zoomcamp FAQ\\nThe purpose of this document is to capture frequently asked technical questions.\\nWe did this for our data engineering course and it worked quite well. Check this document for inspiration on how to structure your questions and answers:\\nData Engineering Zoomcamp FAQ\\nIn the course GitHub repository there’s a link. Here it is: https://airtable.com/shryxwLd0COOEaqXo\\nwork',\n",
       "  'document': '0227b872',\n",
       "  'question': 'How can I structure my questions and answers for the course?',\n",
       "  'course': 'machine-learning-zoomcamp'}]"
      ]
     },
     "execution_count": 35,
     "metadata": {},
     "output_type": "execute_result"
    }
   ],
   "source": [
    "results_phi3\n"
   ]
  },
  {
   "cell_type": "code",
   "execution_count": 39,
   "id": "a8356d1d",
   "metadata": {},
   "outputs": [],
   "source": [
    "def compute_similarity(record):\n",
    "    answer_orig = record['answer_orig']\n",
    "    answer_llm = record['answer_llm']\n",
    "    \n",
    "    v_llm = sentence_model.encode(answer_llm)\n",
    "    v_orig = sentence_model.encode(answer_orig)\n",
    "    \n",
    "    return v_llm.dot(v_orig)"
   ]
  },
  {
   "cell_type": "code",
   "execution_count": 40,
   "id": "6960d5c8",
   "metadata": {},
   "outputs": [],
   "source": [
    "similarity = []\n",
    "\n",
    "for record in results_phi3:\n",
    "    sim = compute_similarity(record)\n",
    "    similarity.append(sim)"
   ]
  },
  {
   "cell_type": "code",
   "execution_count": 41,
   "id": "ffbd1056",
   "metadata": {},
   "outputs": [
    {
     "data": {
      "text/plain": [
       "[1.8950089, 0.63075495, 2.7477698, 1.1537964, 1.4594065]"
      ]
     },
     "execution_count": 41,
     "metadata": {},
     "output_type": "execute_result"
    }
   ],
   "source": [
    "similarity"
   ]
  },
  {
   "cell_type": "code",
   "execution_count": 42,
   "id": "8924c6cc",
   "metadata": {},
   "outputs": [
    {
     "data": {
      "text/plain": [
       "count    5.000000\n",
       "mean     1.577347\n",
       "std      0.800022\n",
       "min      0.630755\n",
       "25%      1.153796\n",
       "50%      1.459406\n",
       "75%      1.895009\n",
       "max      2.747770\n",
       "Name: cosine, dtype: float64"
      ]
     },
     "execution_count": 42,
     "metadata": {},
     "output_type": "execute_result"
    }
   ],
   "source": [
    "df_phi3['cosine'] = similarity\n",
    "df_phi3['cosine'].describe()"
   ]
  },
  {
   "cell_type": "code",
   "execution_count": 50,
   "id": "1c171795",
   "metadata": {},
   "outputs": [
    {
     "name": "stderr",
     "output_type": "stream",
     "text": [
      "huggingface/tokenizers: The current process just got forked, after parallelism has already been used. Disabling parallelism to avoid deadlocks...\n",
      "To disable this warning, you can either:\n",
      "\t- Avoid using `tokenizers` before the fork if possible\n",
      "\t- Explicitly set the environment variable TOKENIZERS_PARALLELISM=(true | false)\n"
     ]
    },
    {
     "name": "stdout",
     "output_type": "stream",
     "text": [
      "Requirement already satisfied: seaborn in /home/mahtab/Desktop/llm-zoomcamp/llm-zoomcamp/env/lib/python3.10/site-packages (0.13.2)\n",
      "Requirement already satisfied: numpy!=1.24.0,>=1.20 in /home/mahtab/Desktop/llm-zoomcamp/llm-zoomcamp/env/lib/python3.10/site-packages (from seaborn) (1.26.4)\n",
      "Requirement already satisfied: pandas>=1.2 in /home/mahtab/Desktop/llm-zoomcamp/llm-zoomcamp/env/lib/python3.10/site-packages (from seaborn) (2.2.2)\n",
      "Requirement already satisfied: matplotlib!=3.6.1,>=3.4 in /home/mahtab/Desktop/llm-zoomcamp/llm-zoomcamp/env/lib/python3.10/site-packages (from seaborn) (3.9.2)\n",
      "Requirement already satisfied: contourpy>=1.0.1 in /home/mahtab/Desktop/llm-zoomcamp/llm-zoomcamp/env/lib/python3.10/site-packages (from matplotlib!=3.6.1,>=3.4->seaborn) (1.2.1)\n",
      "Requirement already satisfied: cycler>=0.10 in /home/mahtab/Desktop/llm-zoomcamp/llm-zoomcamp/env/lib/python3.10/site-packages (from matplotlib!=3.6.1,>=3.4->seaborn) (0.12.1)\n",
      "Requirement already satisfied: fonttools>=4.22.0 in /home/mahtab/Desktop/llm-zoomcamp/llm-zoomcamp/env/lib/python3.10/site-packages (from matplotlib!=3.6.1,>=3.4->seaborn) (4.53.1)\n",
      "Requirement already satisfied: kiwisolver>=1.3.1 in /home/mahtab/Desktop/llm-zoomcamp/llm-zoomcamp/env/lib/python3.10/site-packages (from matplotlib!=3.6.1,>=3.4->seaborn) (1.4.5)\n",
      "Requirement already satisfied: packaging>=20.0 in /home/mahtab/Desktop/llm-zoomcamp/llm-zoomcamp/env/lib/python3.10/site-packages (from matplotlib!=3.6.1,>=3.4->seaborn) (24.1)\n",
      "Requirement already satisfied: pillow>=8 in /home/mahtab/Desktop/llm-zoomcamp/llm-zoomcamp/env/lib/python3.10/site-packages (from matplotlib!=3.6.1,>=3.4->seaborn) (10.4.0)\n",
      "Requirement already satisfied: pyparsing>=2.3.1 in /home/mahtab/Desktop/llm-zoomcamp/llm-zoomcamp/env/lib/python3.10/site-packages (from matplotlib!=3.6.1,>=3.4->seaborn) (3.1.4)\n",
      "Requirement already satisfied: python-dateutil>=2.7 in /home/mahtab/Desktop/llm-zoomcamp/llm-zoomcamp/env/lib/python3.10/site-packages (from matplotlib!=3.6.1,>=3.4->seaborn) (2.9.0.post0)\n",
      "Requirement already satisfied: pytz>=2020.1 in /home/mahtab/Desktop/llm-zoomcamp/llm-zoomcamp/env/lib/python3.10/site-packages (from pandas>=1.2->seaborn) (2024.1)\n",
      "Requirement already satisfied: tzdata>=2022.7 in /home/mahtab/Desktop/llm-zoomcamp/llm-zoomcamp/env/lib/python3.10/site-packages (from pandas>=1.2->seaborn) (2024.1)\n",
      "Requirement already satisfied: six>=1.5 in /home/mahtab/Desktop/llm-zoomcamp/llm-zoomcamp/env/lib/python3.10/site-packages (from python-dateutil>=2.7->matplotlib!=3.6.1,>=3.4->seaborn) (1.16.0)\n",
      "\n",
      "\u001b[1m[\u001b[0m\u001b[34;49mnotice\u001b[0m\u001b[1;39;49m]\u001b[0m\u001b[39;49m A new release of pip is available: \u001b[0m\u001b[31;49m24.0\u001b[0m\u001b[39;49m -> \u001b[0m\u001b[32;49m24.2\u001b[0m\n",
      "\u001b[1m[\u001b[0m\u001b[34;49mnotice\u001b[0m\u001b[1;39;49m]\u001b[0m\u001b[39;49m To update, run: \u001b[0m\u001b[32;49mpip install --upgrade pip\u001b[0m\n"
     ]
    }
   ],
   "source": [
    "!pip install seaborn"
   ]
  },
  {
   "cell_type": "code",
   "execution_count": 57,
   "id": "91492a3e",
   "metadata": {},
   "outputs": [],
   "source": [
    "import seaborn as sns\n",
    "import matplotlib.pyplot as plt\n",
    "\n"
   ]
  },
  {
   "cell_type": "code",
   "execution_count": 60,
   "id": "4068dae7",
   "metadata": {},
   "outputs": [
    {
     "data": {
      "text/plain": [
       "<matplotlib.legend.Legend at 0x7da976a8f550>"
      ]
     },
     "execution_count": 60,
     "metadata": {},
     "output_type": "execute_result"
    },
    {
     "data": {
      "image/png": "[encoded data removed]",
      "text/plain": [
       "<Figure size 360x360 with 1 Axes>"
      ]
     },
     "metadata": {
      "needs_background": "light"
     },
     "output_type": "display_data"
    }
   ],
   "source": [
    "sns.displot(df_phi3['cosine'].values, label='phi3')\n",
    "\n",
    "plt.title(\"RAG LLM performance\")\n",
    "plt.xlabel(\"A->Q->A' Cosine Similarity\")\n",
    "plt.legend()"
   ]
  },
  {
   "cell_type": "markdown",
   "id": "f2571158",
   "metadata": {},
   "source": [
    "# LLM-as-a-Judge\n"
   ]
  },
  {
   "cell_type": "code",
   "execution_count": 92,
   "id": "5f4de706",
   "metadata": {},
   "outputs": [],
   "source": [
    "prompt1_template = \"\"\"\n",
    "You are an expert evaluator for a Retrieval-Augmented Generation (RAG) system.\n",
    "Your task is to analyze the relevance of the generated answer compared to the original answer provided.\n",
    "Based on the relevance and similarity of the generated answer to the original answer, you will classify\n",
    "it as \"NON_RELEVANT\", \"PARTLY_RELEVANT\", or \"RELEVANT\".\n",
    "\n",
    "Here is the data for evaluation:\n",
    "\n",
    "Original Answer: {answer_orig}\n",
    "Generated Question: {question}\n",
    "Generated Answer: {answer_llm}\n",
    "\n",
    "Please analyze the content and context of the generated answer in relation to the original\n",
    "answer and provide your evaluation in parsable JSON without using code blocks:\n",
    "\n",
    "{{\n",
    "  \"Relevance\": \"NON_RELEVANT\" | \"PARTLY_RELEVANT\" | \"RELEVANT\",\"Explanation\": \"[Provide a brief explanation for your evaluation]\"\n",
    "}}\n",
    "\"\"\".strip()\n",
    "\n",
    "prompt2_template = \"\"\"\n",
    "You are an expert evaluator for a Retrieval-Augmented Generation (RAG) system.\n",
    "Your task is to analyze the relevance of the generated answer to the given question.\n",
    "Based on the relevance of the generated answer, you will classify it\n",
    "as \"NON_RELEVANT\", \"PARTLY_RELEVANT\", or \"RELEVANT\".\n",
    "\n",
    "Here is the data for evaluation:\n",
    "\n",
    "Question: {question}\n",
    "Generated Answer: {answer_llm}\n",
    "\n",
    "Please analyze the content and context of the generated answer in relation to the question\n",
    "and provide your evaluation in parsable JSON without using code blocks:\n",
    "\n",
    "{{\n",
    "  \"Relevance\": \"NON_RELEVANT\" | \"PARTLY_RELEVANT\" | \"RELEVANT\",\"Explanation\": \"[Provide a brief explanation for your evaluation]\"\n",
    "}}\n",
    "\"\"\".strip()"
   ]
  },
  {
   "cell_type": "code",
   "execution_count": 93,
   "id": "f3092d6c",
   "metadata": {},
   "outputs": [],
   "source": [
    "df_sample = df_phi3.sample(n=5, random_state=1)\n",
    "samples = df_sample.to_dict(orient='records')\n",
    "\n"
   ]
  },
  {
   "cell_type": "code",
   "execution_count": 94,
   "id": "c6ddc6f0",
   "metadata": {},
   "outputs": [],
   "source": [
    "record = samples[0]\n"
   ]
  },
  {
   "cell_type": "code",
   "execution_count": 95,
   "id": "aa359883",
   "metadata": {},
   "outputs": [
    {
     "data": {
      "text/plain": [
       "{'answer_llm': \"As a course teaching assistant for the Machine Learning course, I'm happy to inform you that yes, there is an FAQ section available to address frequently asked technical questions regarding our course! Please refer to Airtable base URL where all these resources are listed: https://airtable.com/shryxwLd0COOEaqXo?p=4DZc7sIdHJ&i=3\\nAlso, for general advice on how to get started and access course materials after joining the Zoomcamp Machine Learning Course 2023: Go directly to our official ML Camp website (http://mlzoomcamp.com/) or you can use this link http://airtable.com/shryxwLd0COOEaqXo?p=4DZc7sIdHJ&i=17 which will direct right into the course materials and furthermore to our comprehensive GitHub repo (https://github.com/DataTalksClub/machine-learning-zoomcamp/) that holds all resources from theory, assignments and projects related to this Machine Learning Zoomcamp! \",\n",
       " 'answer_orig': 'Machine Learning Zoomcamp FAQ\\nThe purpose of this document is to capture frequently asked technical questions.\\nWe did this for our data engineering course and it worked quite well. Check this document for inspiration on how to structure your questions and answers:\\nData Engineering Zoomcamp FAQ\\nIn the course GitHub repository there’s a link. Here it is: https://airtable.com/shryxwLd0COOEaqXo\\nwork',\n",
       " 'document': '0227b872',\n",
       " 'question': 'Is there an FAQ for this Machine Learning course?',\n",
       " 'course': 'machine-learning-zoomcamp',\n",
       " 'cosine': 2.747769832611084}"
      ]
     },
     "execution_count": 95,
     "metadata": {},
     "output_type": "execute_result"
    }
   ],
   "source": [
    "record"
   ]
  },
  {
   "cell_type": "code",
   "execution_count": 96,
   "id": "4f9a4d79",
   "metadata": {
    "scrolled": true
   },
   "outputs": [
    {
     "name": "stdout",
     "output_type": "stream",
     "text": [
      "You are an expert evaluator for a Retrieval-Augmented Generation (RAG) system.\n",
      "Your task is to analyze the relevance of the generated answer compared to the original answer provided.\n",
      "Based on the relevance and similarity of the generated answer to the original answer, you will classify\n",
      "it as \"NON_RELEVANT\", \"PARTLY_RELEVANT\", or \"RELEVANT\".\n",
      "\n",
      "Here is the data for evaluation:\n",
      "\n",
      "Original Answer: Machine Learning Zoomcamp FAQ\n",
      "The purpose of this document is to capture frequently asked technical questions.\n",
      "We did this for our data engineering course and it worked quite well. Check this document for inspiration on how to structure your questions and answers:\n",
      "Data Engineering Zoomcamp FAQ\n",
      "In the course GitHub repository there’s a link. Here it is: https://airtable.com/shryxwLd0COOEaqXo\n",
      "work\n",
      "Generated Question: Is there an FAQ for this Machine Learning course?\n",
      "Generated Answer: As a course teaching assistant for the Machine Learning course, I'm happy to inform you that yes, there is an FAQ section available to address frequently asked technical questions regarding our course! Please refer to Airtable base URL where all these resources are listed: https://airtable.com/shryxwLd0COOEaqXo?p=4DZc7sIdHJ&i=3\n",
      "Also, for general advice on how to get started and access course materials after joining the Zoomcamp Machine Learning Course 2023: Go directly to our official ML Camp website (http://mlzoomcamp.com/) or you can use this link http://airtable.com/shryxwLd0COOEaqXo?p=4DZc7sIdHJ&i=17 which will direct right into the course materials and furthermore to our comprehensive GitHub repo (https://github.com/DataTalksClub/machine-learning-zoomcamp/) that holds all resources from theory, assignments and projects related to this Machine Learning Zoomcamp! \n",
      "\n",
      "Please analyze the content and context of the generated answer in relation to the original\n",
      "answer and provide your evaluation in parsable JSON without using code blocks:\n",
      "\n",
      "{\n",
      "  \"Relevance\": \"NON_RELEVANT\" | \"PARTLY_RELEVANT\" | \"RELEVANT\",\"Explanation\": \"[Provide a brief explanation for your evaluation]\"\n",
      "}\n"
     ]
    }
   ],
   "source": [
    "prompt = prompt1_template.format(**record)\n",
    "print(prompt)"
   ]
  },
  {
   "cell_type": "code",
   "execution_count": 97,
   "id": "f08f88c6",
   "metadata": {},
   "outputs": [],
   "source": [
    "answer = llm(prompt)\n"
   ]
  },
  {
   "cell_type": "code",
   "execution_count": 108,
   "id": "239d8496",
   "metadata": {},
   "outputs": [
    {
     "data": {
      "text/plain": [
       "'```json\\n\\n{\\n\\n  \"Relevance\": \"PARTLY_RELEVANT\",\\n\\n  \"Explanation\": \"The generated answer partially meets the original question by acknowledging an FAQ section and providing its source. However, it deviates from directly answering \\'Is there an FAQ for this Machine Learning course?\\' instead of referencing to a general advice on getting started with accessing resources as done in the provided URL.\"\\n\\n}\\n\\n```'"
      ]
     },
     "execution_count": 108,
     "metadata": {},
     "output_type": "execute_result"
    }
   ],
   "source": [
    "answer"
   ]
  },
  {
   "cell_type": "code",
   "execution_count": 107,
   "id": "2c8e1ee6",
   "metadata": {},
   "outputs": [
    {
     "data": {
      "text/plain": [
       "'{  \"Relevance\": \"PARTLY_RELEVANT\",  \"Explanation\": \"The generated answer partially meets the original question by acknowledging an FAQ section and providing its source. However, it deviates from directly answering \\'Is there an FAQ for this Machine Learning course?\\' instead of referencing to a general advice on getting started with accessing resources as done in the provided URL.\"}'"
      ]
     },
     "execution_count": 107,
     "metadata": {},
     "output_type": "execute_result"
    }
   ],
   "source": [
    "cleaned_string = answer.strip('```json').strip().replace('\\\\n', '')\n",
    "cleaned_string = cleaned_string.replace('\\n', '')\n",
    "cleaned_string"
   ]
  },
  {
   "cell_type": "code",
   "execution_count": 109,
   "id": "b1ff6cd6",
   "metadata": {},
   "outputs": [
    {
     "data": {
      "text/plain": [
       "{'Relevance': 'PARTLY_RELEVANT',\n",
       " 'Explanation': \"The generated answer partially meets the original question by acknowledging an FAQ section and providing its source. However, it deviates from directly answering 'Is there an FAQ for this Machine Learning course?' instead of referencing to a general advice on getting started with accessing resources as done in the provided URL.\"}"
      ]
     },
     "execution_count": 109,
     "metadata": {},
     "output_type": "execute_result"
    }
   ],
   "source": [
    "json.loads(cleaned_string)"
   ]
  },
  {
   "cell_type": "code",
   "execution_count": 72,
   "id": "d2d1fc13",
   "metadata": {},
   "outputs": [],
   "source": [
    "import json"
   ]
  },
  {
   "cell_type": "code",
   "execution_count": 74,
   "id": "0fa7cd5a",
   "metadata": {},
   "outputs": [],
   "source": [
    "evaluations = []\n",
    "\n",
    "for record in samples:\n",
    "    prompt = prompt1_template.format(**record)\n",
    "    evaluation = llm(prompt)\n",
    "    evaluations.append(evaluation)"
   ]
  },
  {
   "cell_type": "code",
   "execution_count": 86,
   "id": "5c4caf22",
   "metadata": {},
   "outputs": [
    {
     "data": {
      "text/plain": [
       "'```json\\n\\n{\\n\\n  \"Relevance\": \"NON_RELEVANT\",\\n\\n  \"Explanation\": \"The generated answer is non-relevant because it provides several pieces of unnecessary and unrelated information. It mentions being a course teaching assistant, discusses general advice on accessing the Zoomcamp ML Course materials, directs to an external link that doesn\\'t specifically address FAQ questions about data engineering within the course context.\"\\n\\n}\\n\\n```'"
      ]
     },
     "execution_count": 86,
     "metadata": {},
     "output_type": "execute_result"
    }
   ],
   "source": [
    "evaluations[0]\n"
   ]
  },
  {
   "cell_type": "code",
   "execution_count": 111,
   "id": "eff12629",
   "metadata": {},
   "outputs": [],
   "source": [
    "json_evaluations = []\n",
    "\n",
    "for i, str_eval in enumerate(evaluations):\n",
    "    cleaned_string = str_eval.strip('```json').strip().replace('\\\\n', '')\n",
    "    cleaned_string = cleaned_string.replace('\\n', '')\n",
    "    json_eval = json.loads(cleaned_string)\n",
    "    json_evaluations.append(json_eval)"
   ]
  },
  {
   "cell_type": "code",
   "execution_count": 112,
   "id": "d6644b61",
   "metadata": {},
   "outputs": [
    {
     "data": {
      "text/plain": [
       "[{'Relevance': 'NON_RELEVANT',\n",
       "  'Explanation': \"The generated answer is non-relevant because it provides several pieces of unnecessary and unrelated information. It mentions being a course teaching assistant, discusses general advice on accessing the Zoomcamp ML Course materials, directs to an external link that doesn't specifically address FAQ questions about data engineering within the course context.\"},\n",
       " {'Relevance': 'NON_RELEVANT',\n",
       "  'Explanation': \"The generated answer does not directly follow the intent and content of the RAG system's expected action, which is to provide a straightforward link or process for signing up. Instead, it veers off-topic by discussing general practices unrelated points without addressing any signup method within the context provided.\"},\n",
       " {'Relevance': 'SUBSTANTIALLY DIFFERENT FROM NORMALSPIRIT OF THE ORIGINAL ANSWER',\n",
       "  'Explanation': \"The generated answer fails to directly address the purpose of creating and referencing a FAQ document for guidance. Instead, it veers into instructions about structuring questions effectively in an unrelated course setting ('Computer Science Specialization'), which diverges significantly from discussing how one might prepare or guide others specifically using provided 'Zoomcamp' resources like work paths and extra credit methods that relate to studying Machine Learning FAQs as denoted by the original answer. It also doesn't touch on timing details mentioned in the course, nor does it offer relevant information regarding when this specialized Zoomcamp ends.\"},\n",
       " {'relevance': 'PARTLY_RELEVANT',\n",
       "  'explanation': 'The generated answer provides specific instructions on how to sign up for the course, which directly addresses part of what is asked in the original question. However, it loses contextual information about past iterations and accessibility that may also be relevant when signing up or joining after a gap.'},\n",
       " {'Relevance': 'NON_RELEVANT',\n",
       "  'Explanation': 'The generated answer delves into specifics regarding the GitHub repository link use in assignments and community contributions. While relevant to a broader data engineering context, it deviates from directly answering whether there is such a sign-up option as implied for enrolling or attending Machine Learning Zoomcamp.'}]"
      ]
     },
     "execution_count": 112,
     "metadata": {},
     "output_type": "execute_result"
    }
   ],
   "source": [
    "json_evaluations"
   ]
  },
  {
   "cell_type": "code",
   "execution_count": 113,
   "id": "f4613521",
   "metadata": {},
   "outputs": [],
   "source": [
    "df_evaluations = pd.DataFrame(json_evaluations)\n"
   ]
  },
  {
   "cell_type": "code",
   "execution_count": 115,
   "id": "98b06d1b",
   "metadata": {},
   "outputs": [
    {
     "data": {
      "text/plain": [
       "Relevance\n",
       "NON_RELEVANT                                                        3\n",
       "SUBSTANTIALLY DIFFERENT FROM NORMALSPIRIT OF THE ORIGINAL ANSWER    1\n",
       "Name: count, dtype: int64"
      ]
     },
     "execution_count": 115,
     "metadata": {},
     "output_type": "execute_result"
    }
   ],
   "source": [
    "df_evaluations.Relevance.value_counts()"
   ]
  },
  {
   "cell_type": "code",
   "execution_count": 116,
   "id": "474c04e2",
   "metadata": {},
   "outputs": [],
   "source": [
    "df_phi3.to_csv('results-phi3-cosine.csv', index=False)\n"
   ]
  },
  {
   "cell_type": "code",
   "execution_count": 117,
   "id": "5d5845a7",
   "metadata": {},
   "outputs": [],
   "source": [
    "df_evaluations.to_csv('results-eavaluation.csv', index=False)"
   ]
  },
  {
   "cell_type": "code",
   "execution_count": null,
   "id": "e2faa22b",
   "metadata": {},
   "outputs": [],
   "source": []
  }
 ],
 "metadata": {
  "kernelspec": {
   "display_name": "Python 3 (ipykernel)",
   "language": "python",
   "name": "python3"
  },
  "language_info": {
   "codemirror_mode": {
    "name": "ipython",
    "version": 3
   },
   "file_extension": ".py",
   "mimetype": "text/x-python",
   "name": "python",
   "nbconvert_exporter": "python",
   "pygments_lexer": "ipython3",
   "version": "3.10.12"
  }
 },
 "nbformat": 4,
 "nbformat_minor": 5
}
